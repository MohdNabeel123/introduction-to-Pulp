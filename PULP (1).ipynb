{
 "cells": [
  {
   "cell_type": "code",
   "execution_count": 1,
   "id": "874ccb28",
   "metadata": {},
   "outputs": [],
   "source": [
    "!jt -t monokai -T"
   ]
  },
  {
   "cell_type": "markdown",
   "id": "63d4a6f8",
   "metadata": {},
   "source": [
    ">FIRST THING IS TO INSTALL PULP PACKAGE IN PYTHON"
   ]
  },
  {
   "cell_type": "markdown",
   "id": "86f0a1cd",
   "metadata": {},
   "source": [
    "max     z 20x1+30x2\n",
    "s.t       x1+2x2<=100\n",
    "          2x1+x2<=100\n",
    "          x1>=0\n",
    "          x2>=0"
   ]
  },
  {
   "cell_type": "markdown",
   "id": "926787b9",
   "metadata": {},
   "source": [
    "#pulp uses LP solvers(eg GLPK,COINCLP/CBC,CPLEX and GUROBI)\n",
    "#To install pulp in a command prompt,type pip install pulp"
   ]
  },
  {
   "cell_type": "code",
   "execution_count": 13,
   "id": "92386354",
   "metadata": {},
   "outputs": [
    {
     "name": "stdout",
     "output_type": "stream",
     "text": [
      "Requirement already satisfied: pulp in c:\\programdata\\anaconda3\\lib\\site-packages (2.7.0)\n"
     ]
    }
   ],
   "source": [
    "!pip install pulp"
   ]
  },
  {
   "cell_type": "code",
   "execution_count": 14,
   "id": "7d2d6b85",
   "metadata": {},
   "outputs": [],
   "source": [
    "#import pulp\n",
    "# * means all functions are import.\n",
    "from pulp import * "
   ]
  },
  {
   "cell_type": "code",
   "execution_count": 15,
   "id": "99d085f9",
   "metadata": {},
   "outputs": [],
   "source": [
    "# create a lp maximization problem\n",
    "model=LpProblem(\"simplex\",LpMaximize)"
   ]
  },
  {
   "cell_type": "code",
   "execution_count": 16,
   "id": "bda5386b",
   "metadata": {},
   "outputs": [],
   "source": [
    "#pulp.LpVariable(name, lowBound=None, upBound=None, cat='Continuous', e=None\n",
    "# name – The name of the variable used in the output .lp file\n",
    "# lowBound – The lower bound on this variable’s range. Default is negative infinity\n",
    "# upBound – The upper bound on this variable’s range. Default is positive infinity\n",
    "# cat – The category this variable is in, Integer, Binary or Continuous(default)\n",
    "\n",
    "x1=LpVariable(\"x1\",lowBound=0,cat=\"continuous\")\n",
    "x2=LpVariable(\"x2\",lowBound=0,cat=\"continuous\")\n",
    "\n"
   ]
  },
  {
   "cell_type": "code",
   "execution_count": 17,
   "id": "de697302",
   "metadata": {},
   "outputs": [],
   "source": [
    "# objective function\n",
    "model += 20*x1+30*x2"
   ]
  },
  {
   "cell_type": "code",
   "execution_count": 18,
   "id": "8e93dc3e",
   "metadata": {},
   "outputs": [],
   "source": [
    "# constraints\n",
    "model+= 1*x1+2*x2<=100\n",
    "model+= 2*x1+1*x2<=100"
   ]
  },
  {
   "cell_type": "code",
   "execution_count": 19,
   "id": "93f42455",
   "metadata": {},
   "outputs": [
    {
     "data": {
      "text/plain": [
       "1"
      ]
     },
     "execution_count": 19,
     "metadata": {},
     "output_type": "execute_result"
    }
   ],
   "source": [
    "# solve with a default solver\n",
    "model.solve()"
   ]
  },
  {
   "cell_type": "code",
   "execution_count": 20,
   "id": "1945c8a6",
   "metadata": {},
   "outputs": [
    {
     "name": "stdout",
     "output_type": "stream",
     "text": [
      "status: Optimal\n"
     ]
    }
   ],
   "source": [
    "# print the  solution status\n",
    "print(\"status:\",LpStatus[model.status])"
   ]
  },
  {
   "cell_type": "code",
   "execution_count": 21,
   "id": "bc5ede41",
   "metadata": {},
   "outputs": [
    {
     "data": {
      "text/plain": [
       "(33.333333, 33.333333, 1666.6666500000001)"
      ]
     },
     "execution_count": 21,
     "metadata": {},
     "output_type": "execute_result"
    }
   ],
   "source": [
    "# show the solution(first approach)\n",
    "value(x1),value(x2),value(model.objective)"
   ]
  },
  {
   "cell_type": "code",
   "execution_count": 22,
   "id": "62ae033b",
   "metadata": {},
   "outputs": [
    {
     "name": "stdout",
     "output_type": "stream",
     "text": [
      "x1 = 33.333333\n",
      "x2 = 33.333333\n"
     ]
    }
   ],
   "source": [
    "# show the solution(second approach)\n",
    "for v in model.variables():\n",
    "    print(v.name,\"=\",v.varValue)"
   ]
  },
  {
   "cell_type": "code",
   "execution_count": 23,
   "id": "a2409ca5",
   "metadata": {},
   "outputs": [
    {
     "name": "stdout",
     "output_type": "stream",
     "text": [
      "objective : 1666.6666500000001\n"
     ]
    }
   ],
   "source": [
    "print(\"objective :\",value(model.objective))"
   ]
  },
  {
   "cell_type": "code",
   "execution_count": null,
   "id": "b6128ab7",
   "metadata": {},
   "outputs": [],
   "source": []
  }
 ],
 "metadata": {
  "kernelspec": {
   "display_name": "Python 3",
   "language": "python",
   "name": "python3"
  },
  "language_info": {
   "codemirror_mode": {
    "name": "ipython",
    "version": 3
   },
   "file_extension": ".py",
   "mimetype": "text/x-python",
   "name": "python",
   "nbconvert_exporter": "python",
   "pygments_lexer": "ipython3",
   "version": "3.8.8"
  }
 },
 "nbformat": 4,
 "nbformat_minor": 5
}
